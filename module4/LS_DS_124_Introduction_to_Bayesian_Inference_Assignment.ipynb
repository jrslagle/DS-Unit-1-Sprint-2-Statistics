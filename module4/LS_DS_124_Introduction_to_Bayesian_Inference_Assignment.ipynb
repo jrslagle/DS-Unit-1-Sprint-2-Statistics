{
  "nbformat": 4,
  "nbformat_minor": 0,
  "metadata": {
    "colab": {
      "name": "LS_DS_124_Introduction_to_Bayesian_Inference_Assignment.ipynb",
      "provenance": [],
      "collapsed_sections": [],
      "include_colab_link": true
    },
    "kernelspec": {
      "name": "python3",
      "display_name": "Python 3"
    }
  },
  "cells": [
    {
      "cell_type": "markdown",
      "metadata": {
        "id": "view-in-github",
        "colab_type": "text"
      },
      "source": [
        "<a href=\"https://colab.research.google.com/github/jrslagle/DS-Unit-1-Sprint-2-Statistics/blob/master/module4/LS_DS_124_Introduction_to_Bayesian_Inference_Assignment.ipynb\" target=\"_parent\"><img src=\"https://colab.research.google.com/assets/colab-badge.svg\" alt=\"Open In Colab\"/></a>"
      ]
    },
    {
      "cell_type": "markdown",
      "metadata": {
        "id": "H7OLbevlbd_Z"
      },
      "source": [
        "# Lambda School Data Science Module 124\n",
        "\n",
        "## Introduction to Bayesian Inference\n",
        "\n",
        "\n"
      ]
    },
    {
      "cell_type": "markdown",
      "metadata": {
        "id": "P-DzzRk5bf0z"
      },
      "source": [
        "## Assignment - Code it up!\n",
        "\n",
        "We used pure math to apply Bayes Theorem to drug tests. Now write Python code to reproduce the results! This is purposefully open ended - you'll have to think about how you should represent probabilities and events. You can and should look things up.\n",
        "\n",
        "Specific goals/targets:\n",
        "\n",
        "### 1) Write a function \n",
        "\n",
        "`def prob_drunk_given_positive(prob_drunk_prior, false_positive_rate, true_positive_rate):` \n",
        "\n",
        "You should only truly need these three values in order to apply Bayes Theorem. In this example, imagine that individuals are taking a breathalyzer test with an 8% false positive rate, a 100% true positive rate, and that our prior belief about drunk driving in the population is 1/1000. \n",
        " - What is the probability that a person is drunk after one positive breathalyzer test?\n",
        " - What is the probability that a person is drunk after two positive breathalyzer tests?\n",
        " - How many positive breathalyzer tests are needed in order to have a probability that's greater than 95% that a person is drunk beyond the legal limit? ( After testing positive 5 times in a row, there's a 96% chance that the person really is drunk. It's even more likely that they're fed up with you. )\n"
      ]
    },
    {
      "cell_type": "code",
      "metadata": {
        "id": "xpVhZyUnbf7o",
        "outputId": "9fca9fb9-c685-4161-e578-2380d10507cc",
        "colab": {
          "base_uri": "https://localhost:8080/",
          "height": 102
        }
      },
      "source": [
        "def prob_drunk_given_positive(prob_drunk_prior, false_positive_rate, true_positive_rate):\n",
        "  # P(User|+) = P(+|User)P(User) / P(+)\n",
        "  # P(User|+) = P(+|User)P(User) / (P(+|User)P(User) + P(+|Non-user)P(Non-user))\n",
        "  # true_positive_rate    # P(+|User)\n",
        "  # prob_drunk_prior      # P(User)\n",
        "  # false_positive_rate   # P(+|Non-user)\n",
        "  return true_positive_rate * prob_drunk_prior / (true_positive_rate * prob_drunk_prior + false_positive_rate * (1-prob_drunk_prior))\n",
        "\n",
        "\n",
        "prob_drunk_prior = 1/1000\n",
        "false_positive_rate = 0.08\n",
        "true_positive_rate = 1.00\n",
        "drunk_if_pos = 0  # just a starting value\n",
        "test_num = 1\n",
        "\n",
        "while drunk_if_pos < 0.95:\n",
        "  drunk_if_pos = prob_drunk_given_positive(prob_drunk_prior, false_positive_rate, true_positive_rate)\n",
        "  print('After',test_num,'tests, the probability of being drunk if you test positive is',format(prob_drunk_prior*100,'.1f')+'%.')\n",
        "\n",
        "  prob_drunk_prior = drunk_if_pos\n",
        "  test_num += 1\n",
        "\n",
        "print('After',test_num,'tests, the probability of being drunk if you test positive is',format(prob_drunk_prior*100,'.1f')+'%.')\n"
      ],
      "execution_count": 2,
      "outputs": [
        {
          "output_type": "stream",
          "text": [
            "After 1 tests, the probability of being drunk if you test positive is 0.1%.\n",
            "After 2 tests, the probability of being drunk if you test positive is 1.2%.\n",
            "After 3 tests, the probability of being drunk if you test positive is 13.5%.\n",
            "After 4 tests, the probability of being drunk if you test positive is 66.2%.\n",
            "After 5 tests, the probability of being drunk if you test positive is 96.1%.\n"
          ],
          "name": "stdout"
        }
      ]
    },
    {
      "cell_type": "markdown",
      "metadata": {
        "id": "nhOAsLjvCSLF"
      },
      "source": [
        "### 2) In your own words, summarize the difference between Bayesian and Frequentist statistics\n",
        "\n",
        "If you're unsure where to start, check out [this blog post of Bayes theorem with Python](https://dataconomy.com/2015/02/introduction-to-bayes-theorem-with-python/)."
      ]
    },
    {
      "cell_type": "markdown",
      "metadata": {
        "id": "AADlIVfgDztY"
      },
      "source": [
        "The Frequentist approach vs the Baysian approach in statisitics have different frames of reference regarding the population. Both approaches are inferential statistics - trying to infer the properties of the population using our knowledge of a sample. The frequentist approach works in means and standard deviations. The baysian approach works in conditional probabilities and events. The frequentist approach tries to infer the properties of the whole population. The baysian approach includes a way to update our beliefs, given new evidence."
      ]
    },
    {
      "cell_type": "markdown",
      "metadata": {
        "id": "AeAGBxWjCTv3"
      },
      "source": [
        "### 3) Use the following Template to help come up with ideas for your Build Sprint Project: \n",
        "\n"
      ]
    },
    {
      "cell_type": "markdown",
      "metadata": {
        "id": "YgIaBr__C5Q2"
      },
      "source": [
        "---\n",
        "\n",
        "## Idea 1:"
      ]
    },
    {
      "cell_type": "markdown",
      "metadata": {
        "id": "MwR6hTB1CiLR"
      },
      "source": [
        "### You\n",
        "**What do you care about?**\n",
        "[My Project Justifications](https://drive.google.com/file/d/1FXZUA8Q4er6GuQ1_z8aYaXT495YqR3pm/view?usp=sharing) is a map of what general topics my projects fall into and why I do them.\n",
        "\n",
        "**What do you know about?**\n",
        "I can talk about each topic for 10 minutes or more:\n",
        "- climate change\n",
        "- metabolic processes\n",
        "- biochemistry\n",
        "- relativity\n",
        "- JPEG encoding\n",
        "- the Mandelbrot set\n",
        "- Armenianism vs Calvanism\n",
        "- Eve Online ore and mineral economics\n",
        "- machine learning and ideas for better neural networks.\n",
        "\n",
        "**What decisions do you face?**\n",
        "- When to go to bed, when to get up, and what to eat for breakfast. Can you be more specific?\n",
        "\n"
      ]
    },
    {
      "cell_type": "markdown",
      "metadata": {
        "id": "lorLHSkzClzC"
      },
      "source": [
        "### Seven templates\n",
        "\n",
        "In order to better understand the prompts here, please review the [Priceonomics Content Marketing Templates](https://priceonomics.com/introducing-priceonomics-content-marketing/)\n",
        "\n",
        "Can you apply the templates to your topics?\n",
        "\n",
        "**Geographic Variation:**\n",
        "- A choropleth map of Jimmy's 'want to live somewhere where' index by county.\n",
        "- A heatmap of Eve Online's asteroid value over the New Eden star cluster.\n",
        "- A choropleth map of % in a congregation in the US by county (and platform for any stat on city-data.com).\n",
        "\n",
        "**Trend related to the news:**\n",
        "- The scatterplot between anti-mask sentiment and Covid growth rate.\n",
        "\n",
        "**Who does that?:**\n",
        "- A vector graph of mineral price gradients between the regions of New Eden.\n",
        "- What is the character age distribution of people who sell me ore?\n",
        "\n",
        "**Answering a question people care about:**\n",
        "- Is there an ideal time to date before getting married to reduce divorce rates?\n",
        "- Which stars are the Triglavians hungry for, by name?\n",
        "\n",
        "**Valuable to businesses:**\n",
        "- A sankey diagram of retention rates of each Lambda cohort.\n",
        "- Transpiration rates of rivers with tamerisk vs different ecosystems, how much water could be restored to the Virgin River & it's implications for local and downstream human water use.\n",
        "\n",
        "**What's the most popular?:**\n",
        "\n",
        "**Cost/Money rankings:**"
      ]
    },
    {
      "cell_type": "markdown",
      "metadata": {
        "id": "3OXCCIT6C_p0"
      },
      "source": [
        "### Misconceptions\n",
        "\n",
        "What misconceptions do people have about your topic?"
      ]
    },
    {
      "cell_type": "markdown",
      "metadata": {
        "id": "kZAkrgTUDCjF"
      },
      "source": [
        "Depending on which topic I pick:\n",
        "- Eve Online is complicated yes, but some broad stroke stories can be told by aggregating data into compelling visualizations.\n",
        "- As for 'index by county' maps, there is a wealth of data available at http://www.city-data.com/ that I've never seen maps for. There seems to be some miscalibration in the public between what data is available vs what people think is available."
      ]
    },
    {
      "cell_type": "markdown",
      "metadata": {
        "id": "3tNrndE9DD3-"
      },
      "source": [
        "### Examples\n",
        "\n",
        "What data storytelling example inspires you?\n",
        "- choropleth maps, sankey diagrams, and 3D scatter plots.\n",
        "\n",
        "Could you do a new hypothesis, for the same question?\n",
        "\n",
        "Could you do a new question, for the same topic?\n",
        "\n",
        "Could you do a new topic, with the same \"style\"?"
      ]
    },
    {
      "cell_type": "markdown",
      "metadata": {
        "id": "-5NsWQy5DKoR"
      },
      "source": [
        ""
      ]
    },
    {
      "cell_type": "markdown",
      "metadata": {
        "id": "9rPtMFB6DN7B"
      },
      "source": [
        "###Data\n",
        "\n",
        "Where could you search for data about your topic?"
      ]
    },
    {
      "cell_type": "markdown",
      "metadata": {
        "id": "s9hqjOlhDTDa"
      },
      "source": [
        "Demographics: http://www.city-data.com/\n",
        "\n",
        "Eve Online: https://esi.evetech.net/ui/"
      ]
    },
    {
      "cell_type": "markdown",
      "metadata": {
        "id": "ld5MOaFaDVSK"
      },
      "source": [
        "---\n",
        "\n",
        "## Idea 2:"
      ]
    },
    {
      "cell_type": "markdown",
      "metadata": {
        "id": "znhTWIlUDVSM"
      },
      "source": [
        "### You\n",
        "What do you care about?\n",
        "\n",
        "What do you know about?\n",
        "\n",
        "What decisions do you face?\n",
        "\n"
      ]
    },
    {
      "cell_type": "markdown",
      "metadata": {
        "id": "3Gln5mYeDVSM"
      },
      "source": [
        ""
      ]
    },
    {
      "cell_type": "markdown",
      "metadata": {
        "id": "W-njBredDVSN"
      },
      "source": [
        "### Seven templates\n",
        "\n",
        "In order to better understand the prompts here, please review the [Priceonomics Content Marketing Templates](https://priceonomics.com/introducing-priceonomics-content-marketing/)\n",
        "\n",
        "Can you apply the templates to your topics?\n",
        "\n",
        "**Geographic Variation:**\n",
        "\n",
        "**Trend related to the news:**\n",
        "\n",
        "**Who does that?:**\n",
        "\n",
        "**Answering a question people care about:**\n",
        "\n",
        "**Valuable to businesses:**\n",
        "\n",
        "**What's the most popular?:**\n",
        "\n",
        "**Cost/Money rankings:**"
      ]
    },
    {
      "cell_type": "markdown",
      "metadata": {
        "id": "pkOqHHL3DVSN"
      },
      "source": [
        ""
      ]
    },
    {
      "cell_type": "markdown",
      "metadata": {
        "id": "njLQ3hLuDVSO"
      },
      "source": [
        "### Misconceptions\n",
        "\n",
        "What misconceptions do people have about your topic?"
      ]
    },
    {
      "cell_type": "markdown",
      "metadata": {
        "id": "IzrUvaKeDVSO"
      },
      "source": [
        ""
      ]
    },
    {
      "cell_type": "markdown",
      "metadata": {
        "id": "L0X6X5WaDVSP"
      },
      "source": [
        "### Examples\n",
        "\n",
        "What data storytelling example inspires you?\n",
        "\n",
        "Could you do a new hypothesis, for the same question?\n",
        "\n",
        "Could you do a new question, for the same topic?\n",
        "\n",
        "Could you do a new topic, with the same \"style\"?"
      ]
    },
    {
      "cell_type": "markdown",
      "metadata": {
        "id": "fDdHExa0DVSP"
      },
      "source": [
        ""
      ]
    },
    {
      "cell_type": "markdown",
      "metadata": {
        "id": "CxgSpiwYDVSQ"
      },
      "source": [
        "###Data\n",
        "\n",
        "Where could you search for data about your topic?"
      ]
    },
    {
      "cell_type": "markdown",
      "metadata": {
        "id": "uWgWjp3PQ3Sq"
      },
      "source": [
        "## Resources"
      ]
    },
    {
      "cell_type": "markdown",
      "metadata": {
        "id": "QRgHqmYIQ9qn"
      },
      "source": [
        "- [Worked example of Bayes rule calculation](https://en.wikipedia.org/wiki/Bayes'_theorem#Examples) (helpful as it fully breaks out the denominator)\n",
        "- [Source code for mvsdist in scipy](https://github.com/scipy/scipy/blob/90534919e139d2a81c24bf08341734ff41a3db12/scipy/stats/morestats.py#L139)"
      ]
    },
    {
      "cell_type": "markdown",
      "metadata": {
        "id": "GP7Jv1XvwtkX"
      },
      "source": [
        "## Stretch Goals:\n",
        "\n",
        "- Go back and study the content from Modules 1 & 2 & 3 to make sure that you're really comfortable with them.\n",
        "- Apply a Bayesian technique to a problem you previously worked (in an assignment or project work) on from a frequentist (standard) perspective\n",
        "- Check out [PyMC3](https://docs.pymc.io/) (note this goes beyond hypothesis tests into modeling) - read the guides and work through some examples\n",
        "- Take PyMC3 further - see if you can build something with it!"
      ]
    }
  ]
}