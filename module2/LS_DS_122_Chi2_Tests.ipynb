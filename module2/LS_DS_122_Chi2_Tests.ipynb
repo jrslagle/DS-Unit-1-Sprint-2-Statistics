{
  "nbformat": 4,
  "nbformat_minor": 0,
  "metadata": {
    "colab": {
      "name": "LS_DS_122_Chi2_Tests_No_Answers.ipynb",
      "provenance": [],
      "collapsed_sections": []
    },
    "kernelspec": {
      "name": "python3",
      "display_name": "Python 3"
    }
  },
  "cells": [
    {
      "cell_type": "markdown",
      "metadata": {
        "id": "838Dmw1kM2LK",
        "colab_type": "text"
      },
      "source": [
        "# Lambda School Data Science Module 122\n",
        "## Hypothesis Testing - Chi-Square Tests"
      ]
    },
    {
      "cell_type": "markdown",
      "metadata": {
        "id": "dbcPKIo5M6Ny",
        "colab_type": "text"
      },
      "source": [
        "## Prepare \n",
        "In the last lecture, we learned about the t-test, which allows you to weigh evidence for or against the claim that the mean of a population is equal to a reference value (the null hypothesis).\n",
        "\n",
        "T-tests are often the appropriate statistical test when you are working with a quantitative, continuous variable.\n",
        "\n",
        "However, there are lots of other kinds of data and many other methods of data analysis.  For example, we might like to examine the relationship between two categorical variables.  In that case, we'd like to use a chi-square test.  \"Chi-square\" refers to a particular statistical distribution in the way that the t-test is called the t-test because it depends on the t-distribution.\n",
        "\n",
        "The chi-square test works - in general - by comparing the counts that actually appear in a two-way table to the counts we would expect to see if the two variables were not related to each other at all.\n",
        "\n",
        "[More about the Chi-square test](https://https://en.wikipedia.org/wiki/Chi-squared_test).\n"
      ]
    },
    {
      "cell_type": "markdown",
      "metadata": {
        "id": "gFR3uySzIuHW",
        "colab_type": "text"
      },
      "source": [
        "## Titanic Example\n",
        "\n",
        "In the early hours of April 15, 1912, the unsinkable ship RMS Titanic sank when it struck an iceberg, killing more than half of the passengers and crew aboard. \n",
        "\n",
        "The Titanic.csv dataset contains demographic information for 889 of those passengers as well as a record of whether or not each passenger survived. \n",
        "\n",
        "Our goal is to determine if there is a relationship between ticket class and passenger survival on the Titanic.\n",
        "\n"
      ]
    },
    {
      "cell_type": "markdown",
      "metadata": {
        "id": "Bq3kUBwiSdTC",
        "colab_type": "text"
      },
      "source": [
        "A chi-square test *always* tests the null hypothesis that there is *no* relationship between two variables vs. the alternative hypothesis that there *is* some relationship between the two variables.\n"
      ]
    },
    {
      "cell_type": "markdown",
      "metadata": {
        "id": "MqZXv4PwStTl",
        "colab_type": "text"
      },
      "source": [
        "Therefore, in this exmaple\n",
        "\n",
        "**Ho:** There is no relationship between passenger ticket class and survival on the Titanic.\n",
        "\n",
        "**Ha:** There is a relationship between passenger ticket class and survival on the Titanic."
      ]
    },
    {
      "cell_type": "code",
      "metadata": {
        "id": "H9MfqTT3Lgqm",
        "colab_type": "code",
        "colab": {
          "base_uri": "https://localhost:8080/",
          "height": 416
        },
        "outputId": "f0215c67-53cc-450b-b910-98c4413e5039"
      },
      "source": [
        "import pandas as pd\n",
        "import numpy as np\n",
        "!wget https://raw.githubusercontent.com/Chelsea-Myers/Lambda-Intro/master/Titanic.csv\n",
        "data_url = 'https://raw.githubusercontent.com/Chelsea-Myers/Lambda-Intro/master/Titanic.csv'\n",
        "\n",
        "df = pd.read_csv(data_url, skipinitialspace=True, header=0)\n",
        "\n",
        "print(df.shape)\n",
        "df.head()"
      ],
      "execution_count": 1,
      "outputs": [
        {
          "output_type": "stream",
          "text": [
            "--2020-09-19 23:49:42--  https://raw.githubusercontent.com/Chelsea-Myers/Lambda-Intro/master/Titanic.csv\n",
            "Resolving raw.githubusercontent.com (raw.githubusercontent.com)... 151.101.0.133, 151.101.64.133, 151.101.128.133, ...\n",
            "Connecting to raw.githubusercontent.com (raw.githubusercontent.com)|151.101.0.133|:443... connected.\n",
            "HTTP request sent, awaiting response... 200 OK\n",
            "Length: 44227 (43K) [text/plain]\n",
            "Saving to: ‘Titanic.csv’\n",
            "\n",
            "Titanic.csv         100%[===================>]  43.19K  --.-KB/s    in 0.02s   \n",
            "\n",
            "2020-09-19 23:49:42 (1.79 MB/s) - ‘Titanic.csv’ saved [44227/44227]\n",
            "\n",
            "(887, 8)\n"
          ],
          "name": "stdout"
        },
        {
          "output_type": "execute_result",
          "data": {
            "text/html": [
              "<div>\n",
              "<style scoped>\n",
              "    .dataframe tbody tr th:only-of-type {\n",
              "        vertical-align: middle;\n",
              "    }\n",
              "\n",
              "    .dataframe tbody tr th {\n",
              "        vertical-align: top;\n",
              "    }\n",
              "\n",
              "    .dataframe thead th {\n",
              "        text-align: right;\n",
              "    }\n",
              "</style>\n",
              "<table border=\"1\" class=\"dataframe\">\n",
              "  <thead>\n",
              "    <tr style=\"text-align: right;\">\n",
              "      <th></th>\n",
              "      <th>Survived</th>\n",
              "      <th>Pclass</th>\n",
              "      <th>Name</th>\n",
              "      <th>Sex</th>\n",
              "      <th>Age</th>\n",
              "      <th>Siblings/Spouses_Aboard</th>\n",
              "      <th>Parents/Children_Aboard</th>\n",
              "      <th>Fare</th>\n",
              "    </tr>\n",
              "  </thead>\n",
              "  <tbody>\n",
              "    <tr>\n",
              "      <th>0</th>\n",
              "      <td>0</td>\n",
              "      <td>3</td>\n",
              "      <td>Mr. Owen Harris Braund</td>\n",
              "      <td>male</td>\n",
              "      <td>22.0</td>\n",
              "      <td>1</td>\n",
              "      <td>0</td>\n",
              "      <td>7.2500</td>\n",
              "    </tr>\n",
              "    <tr>\n",
              "      <th>1</th>\n",
              "      <td>1</td>\n",
              "      <td>1</td>\n",
              "      <td>Mrs. John Bradley (Florence Briggs Thayer) Cum...</td>\n",
              "      <td>female</td>\n",
              "      <td>38.0</td>\n",
              "      <td>1</td>\n",
              "      <td>0</td>\n",
              "      <td>71.2833</td>\n",
              "    </tr>\n",
              "    <tr>\n",
              "      <th>2</th>\n",
              "      <td>1</td>\n",
              "      <td>3</td>\n",
              "      <td>Miss. Laina Heikkinen</td>\n",
              "      <td>female</td>\n",
              "      <td>26.0</td>\n",
              "      <td>0</td>\n",
              "      <td>0</td>\n",
              "      <td>7.9250</td>\n",
              "    </tr>\n",
              "    <tr>\n",
              "      <th>3</th>\n",
              "      <td>1</td>\n",
              "      <td>1</td>\n",
              "      <td>Mrs. Jacques Heath (Lily May Peel) Futrelle</td>\n",
              "      <td>female</td>\n",
              "      <td>35.0</td>\n",
              "      <td>1</td>\n",
              "      <td>0</td>\n",
              "      <td>53.1000</td>\n",
              "    </tr>\n",
              "    <tr>\n",
              "      <th>4</th>\n",
              "      <td>0</td>\n",
              "      <td>3</td>\n",
              "      <td>Mr. William Henry Allen</td>\n",
              "      <td>male</td>\n",
              "      <td>35.0</td>\n",
              "      <td>0</td>\n",
              "      <td>0</td>\n",
              "      <td>8.0500</td>\n",
              "    </tr>\n",
              "  </tbody>\n",
              "</table>\n",
              "</div>"
            ],
            "text/plain": [
              "   Survived  Pclass  ... Parents/Children_Aboard     Fare\n",
              "0         0       3  ...                       0   7.2500\n",
              "1         1       1  ...                       0  71.2833\n",
              "2         1       3  ...                       0   7.9250\n",
              "3         1       1  ...                       0  53.1000\n",
              "4         0       3  ...                       0   8.0500\n",
              "\n",
              "[5 rows x 8 columns]"
            ]
          },
          "metadata": {
            "tags": []
          },
          "execution_count": 1
        }
      ]
    },
    {
      "cell_type": "markdown",
      "metadata": {
        "id": "6PYW6S2ENbt5",
        "colab_type": "text"
      },
      "source": [
        "Survived = 0 means the passenger did not survive and \n",
        "Surivived = 1 means the passenger did survive.\n",
        "\n",
        "Pclass = 1, 2, 3 indicates the passenger had a 1st, 2nd or 3rd class ticket, respectively."
      ]
    },
    {
      "cell_type": "markdown",
      "metadata": {
        "id": "pjxovVDJNqD4",
        "colab_type": "text"
      },
      "source": [
        "To start, let's look at the freqeuncy and relative frequency of surival on the Titanic."
      ]
    },
    {
      "cell_type": "markdown",
      "metadata": {
        "id": "FTsevjpdPiDm",
        "colab_type": "text"
      },
      "source": [
        "Now let's look at the frequency and relative frequency of ticket class.\n"
      ]
    },
    {
      "cell_type": "markdown",
      "metadata": {
        "id": "O6i9Mmh0QGvo",
        "colab_type": "text"
      },
      "source": [
        "Now let's look at the joint distribution of survival by passenger class.  That means we want to see how many people fall into each combination of the two categories."
      ]
    },
    {
      "cell_type": "markdown",
      "metadata": {
        "id": "FJqraSFAS4eE",
        "colab_type": "text"
      },
      "source": [
        "So... is there a relationship between ticket class and survival?  "
      ]
    },
    {
      "cell_type": "markdown",
      "metadata": {
        "id": "ognwwnHyTOn3",
        "colab_type": "text"
      },
      "source": [
        "Let's begin by including the marginal distribution of each variable.  We actually calculated those before, but we can add them to the \"margins\" of the two-way table (hence the name marginal distribution) so we can remember how many people survived overall and how many people were in each ticket class overall."
      ]
    },
    {
      "cell_type": "code",
      "metadata": {
        "id": "-OmuXo0QOh0U",
        "colab_type": "code",
        "colab": {
          "base_uri": "https://localhost:8080/",
          "height": 198
        },
        "outputId": "53e364bb-e409-4a38-b981-240f380034e7"
      },
      "source": [
        "# Joint distribution with margins\n",
        "pd.crosstab(df['Pclass'],df['Survived'], margins=True)/len(df)"
      ],
      "execution_count": 13,
      "outputs": [
        {
          "output_type": "execute_result",
          "data": {
            "text/html": [
              "<div>\n",
              "<style scoped>\n",
              "    .dataframe tbody tr th:only-of-type {\n",
              "        vertical-align: middle;\n",
              "    }\n",
              "\n",
              "    .dataframe tbody tr th {\n",
              "        vertical-align: top;\n",
              "    }\n",
              "\n",
              "    .dataframe thead th {\n",
              "        text-align: right;\n",
              "    }\n",
              "</style>\n",
              "<table border=\"1\" class=\"dataframe\">\n",
              "  <thead>\n",
              "    <tr style=\"text-align: right;\">\n",
              "      <th>Survived</th>\n",
              "      <th>0</th>\n",
              "      <th>1</th>\n",
              "      <th>All</th>\n",
              "    </tr>\n",
              "    <tr>\n",
              "      <th>Pclass</th>\n",
              "      <th></th>\n",
              "      <th></th>\n",
              "      <th></th>\n",
              "    </tr>\n",
              "  </thead>\n",
              "  <tbody>\n",
              "    <tr>\n",
              "      <th>1</th>\n",
              "      <td>0.090192</td>\n",
              "      <td>0.153326</td>\n",
              "      <td>0.243517</td>\n",
              "    </tr>\n",
              "    <tr>\n",
              "      <th>2</th>\n",
              "      <td>0.109357</td>\n",
              "      <td>0.098083</td>\n",
              "      <td>0.207441</td>\n",
              "    </tr>\n",
              "    <tr>\n",
              "      <th>3</th>\n",
              "      <td>0.414882</td>\n",
              "      <td>0.134160</td>\n",
              "      <td>0.549042</td>\n",
              "    </tr>\n",
              "    <tr>\n",
              "      <th>All</th>\n",
              "      <td>0.614431</td>\n",
              "      <td>0.385569</td>\n",
              "      <td>1.000000</td>\n",
              "    </tr>\n",
              "  </tbody>\n",
              "</table>\n",
              "</div>"
            ],
            "text/plain": [
              "Survived         0         1       All\n",
              "Pclass                                \n",
              "1         0.090192  0.153326  0.243517\n",
              "2         0.109357  0.098083  0.207441\n",
              "3         0.414882  0.134160  0.549042\n",
              "All       0.614431  0.385569  1.000000"
            ]
          },
          "metadata": {
            "tags": []
          },
          "execution_count": 13
        }
      ]
    },
    {
      "cell_type": "markdown",
      "metadata": {
        "id": "mUVwexDOo5Nm",
        "colab_type": "text"
      },
      "source": [
        "But what we really want to know is \"Of people in each ticket class, what proportion survived?\"  We can compare those proportions and see if they are the same or different.\n",
        "\n",
        "We use \"normalize = index\" to tell Pandas that we want to compute the proportion of individuals who did and did not survive by the row variable (what Pandas calls the index variable).  \n",
        "\n",
        "In statistical terminology, we call this the conditional distribution.  We are computing the distribution of survival *conditional* on what passenger class they were in."
      ]
    },
    {
      "cell_type": "code",
      "metadata": {
        "id": "uut5TSEAocmx",
        "colab_type": "code",
        "colab": {
          "base_uri": "https://localhost:8080/",
          "height": 168
        },
        "outputId": "1835b513-a282-42fc-9bc9-24528698f307"
      },
      "source": [
        "#Conditional distribution of survival by passenger class\n",
        "pd.crosstab(df[\"Pclass\"], df[\"Survived\"], normalize=\"index\")"
      ],
      "execution_count": 14,
      "outputs": [
        {
          "output_type": "execute_result",
          "data": {
            "text/html": [
              "<div>\n",
              "<style scoped>\n",
              "    .dataframe tbody tr th:only-of-type {\n",
              "        vertical-align: middle;\n",
              "    }\n",
              "\n",
              "    .dataframe tbody tr th {\n",
              "        vertical-align: top;\n",
              "    }\n",
              "\n",
              "    .dataframe thead th {\n",
              "        text-align: right;\n",
              "    }\n",
              "</style>\n",
              "<table border=\"1\" class=\"dataframe\">\n",
              "  <thead>\n",
              "    <tr style=\"text-align: right;\">\n",
              "      <th>Survived</th>\n",
              "      <th>0</th>\n",
              "      <th>1</th>\n",
              "    </tr>\n",
              "    <tr>\n",
              "      <th>Pclass</th>\n",
              "      <th></th>\n",
              "      <th></th>\n",
              "    </tr>\n",
              "  </thead>\n",
              "  <tbody>\n",
              "    <tr>\n",
              "      <th>1</th>\n",
              "      <td>0.370370</td>\n",
              "      <td>0.629630</td>\n",
              "    </tr>\n",
              "    <tr>\n",
              "      <th>2</th>\n",
              "      <td>0.527174</td>\n",
              "      <td>0.472826</td>\n",
              "    </tr>\n",
              "    <tr>\n",
              "      <th>3</th>\n",
              "      <td>0.755647</td>\n",
              "      <td>0.244353</td>\n",
              "    </tr>\n",
              "  </tbody>\n",
              "</table>\n",
              "</div>"
            ],
            "text/plain": [
              "Survived         0         1\n",
              "Pclass                      \n",
              "1         0.370370  0.629630\n",
              "2         0.527174  0.472826\n",
              "3         0.755647  0.244353"
            ]
          },
          "metadata": {
            "tags": []
          },
          "execution_count": 14
        }
      ]
    },
    {
      "cell_type": "markdown",
      "metadata": {
        "id": "eTuzvCsVU-GC",
        "colab_type": "text"
      },
      "source": [
        "We observe:"
      ]
    },
    {
      "cell_type": "markdown",
      "metadata": {
        "id": "SSjO9J7ZV7kY",
        "colab_type": "text"
      },
      "source": [
        "But because we haven't actually computed a statistical test, we don't know for sure if there is strong evidence that there is a relationship between ticket class and survival.  That's where the Chi-Square test comes in."
      ]
    },
    {
      "cell_type": "markdown",
      "metadata": {
        "id": "YZwjlEvEWOv6",
        "colab_type": "text"
      },
      "source": [
        "As a refresher:\n",
        "\n",
        "**Ho:** There is no relationship between one variable and another.\n",
        "\n",
        "**Ha:** There is some relationship between one variable and another. "
      ]
    },
    {
      "cell_type": "markdown",
      "metadata": {
        "id": "Y1Pt_aECZEti",
        "colab_type": "text"
      },
      "source": [
        "Just like in the t-test examples, if the p-value is less than the significance level, we will reject the null hypothesis.  If the p-value is greater than the significance level, we will fail to reject."
      ]
    },
    {
      "cell_type": "markdown",
      "metadata": {
        "id": "6H6ki7rYZOj1",
        "colab_type": "text"
      },
      "source": [
        "We import the chi-square function (chi2_contingency) from scipy.stats.  \n",
        "\n",
        "**Take a very close look at the entry in the contingency table function**. It is the *table* we created above, not just the two variables of interest.\n",
        "\n",
        "The chi2_contingency function has a lot of output, but we are most interested in the p-value, which we are calling p below.  "
      ]
    },
    {
      "cell_type": "code",
      "metadata": {
        "id": "eNwb4YNSWJqe",
        "colab_type": "code",
        "colab": {
          "base_uri": "https://localhost:8080/",
          "height": 35
        },
        "outputId": "d2c7d4a3-4027-4f8d-f1b6-f748b434d61d"
      },
      "source": [
        "from scipy.stats import chi2_contingency\n",
        "\n",
        "#Chi-square test\n",
        "g, p, dof, exptd = chi2_contingency(pd.crosstab(df['Pclass'],df['Survived']))\n",
        "print(p)"
      ],
      "execution_count": 15,
      "outputs": [
        {
          "output_type": "stream",
          "text": [
            "1.0496962042983216e-22\n"
          ],
          "name": "stdout"
        }
      ]
    },
    {
      "cell_type": "markdown",
      "metadata": {
        "id": "_E7z5tdGZ2uC",
        "colab_type": "text"
      },
      "source": [
        "P-value = 1.0497e-22"
      ]
    },
    {
      "cell_type": "markdown",
      "metadata": {
        "id": "7Pq1ef1CaJra",
        "colab_type": "text"
      },
      "source": [
        "So... we definitely think that passenger ticket class is ???\n",
        "- Related to survival."
      ]
    },
    {
      "cell_type": "markdown",
      "metadata": {
        "id": "HMH1-hIVaWxc",
        "colab_type": "text"
      },
      "source": [
        "Let's make a nice visualization - a side by side bar plot - to illustrate this relationship.\n",
        "\n"
      ]
    },
    {
      "cell_type": "markdown",
      "metadata": {
        "id": "4Y9nzI3vbDCU",
        "colab_type": "text"
      },
      "source": [
        "First, let's take a look at our conditional distribution of survival by passenger class again."
      ]
    },
    {
      "cell_type": "code",
      "metadata": {
        "id": "steEWv1kbHmG",
        "colab_type": "code",
        "colab": {
          "base_uri": "https://localhost:8080/",
          "height": 168
        },
        "outputId": "ada8c499-25cc-4b3f-d921-709b3a48e14a"
      },
      "source": [
        "#Copy code for conditional distribution of survival by passenger class here:\n",
        "pd.crosstab(df[\"Pclass\"], df[\"Survived\"], normalize=\"index\")*100"
      ],
      "execution_count": 16,
      "outputs": [
        {
          "output_type": "execute_result",
          "data": {
            "text/html": [
              "<div>\n",
              "<style scoped>\n",
              "    .dataframe tbody tr th:only-of-type {\n",
              "        vertical-align: middle;\n",
              "    }\n",
              "\n",
              "    .dataframe tbody tr th {\n",
              "        vertical-align: top;\n",
              "    }\n",
              "\n",
              "    .dataframe thead th {\n",
              "        text-align: right;\n",
              "    }\n",
              "</style>\n",
              "<table border=\"1\" class=\"dataframe\">\n",
              "  <thead>\n",
              "    <tr style=\"text-align: right;\">\n",
              "      <th>Survived</th>\n",
              "      <th>0</th>\n",
              "      <th>1</th>\n",
              "    </tr>\n",
              "    <tr>\n",
              "      <th>Pclass</th>\n",
              "      <th></th>\n",
              "      <th></th>\n",
              "    </tr>\n",
              "  </thead>\n",
              "  <tbody>\n",
              "    <tr>\n",
              "      <th>1</th>\n",
              "      <td>37.037037</td>\n",
              "      <td>62.962963</td>\n",
              "    </tr>\n",
              "    <tr>\n",
              "      <th>2</th>\n",
              "      <td>52.717391</td>\n",
              "      <td>47.282609</td>\n",
              "    </tr>\n",
              "    <tr>\n",
              "      <th>3</th>\n",
              "      <td>75.564682</td>\n",
              "      <td>24.435318</td>\n",
              "    </tr>\n",
              "  </tbody>\n",
              "</table>\n",
              "</div>"
            ],
            "text/plain": [
              "Survived          0          1\n",
              "Pclass                        \n",
              "1         37.037037  62.962963\n",
              "2         52.717391  47.282609\n",
              "3         75.564682  24.435318"
            ]
          },
          "metadata": {
            "tags": []
          },
          "execution_count": 16
        }
      ]
    },
    {
      "cell_type": "markdown",
      "metadata": {
        "id": "IpgY1QZPbLia",
        "colab_type": "text"
      },
      "source": [
        "We'd like to create a bar plot where we compare the percent of surivors in each passenger class.\n",
        "\n",
        "We're going to start by creating two vectors: one for the percent of individuals who survived and one for the percent of individuals who didn't survive and plotting those with the help of some graphing parameters that are going to make everything line up nicely.\n",
        "\n",
        "[More info about barplots](https://https://matplotlib.org/examples/api/barchart_demo.html)."
      ]
    },
    {
      "cell_type": "code",
      "metadata": {
        "id": "41bOviWHa2j0",
        "colab_type": "code",
        "colab": {
          "base_uri": "https://localhost:8080/",
          "height": 281
        },
        "outputId": "9fb62877-cfd6-47fe-e735-b147730bec84"
      },
      "source": [
        "import matplotlib.pyplot as plt\n",
        "\n",
        "# Need this for graphing purposes - it's the number of passenger classes\n",
        "N = 3 ## Fill in here \n",
        "\n",
        "\n",
        "Died = (37, 53, 76) # Percent that died in each ticket class\n",
        "Survived = (63, 47, 24) #Percent that survived in each ticket class\n",
        "\n",
        "#This is more graphical stuff\n",
        "ind = np.arange(N)  # the x locations for the groups\n",
        "width = 0.35       # the width of the bars\n",
        "\n",
        "#Create the plot\n",
        "fig, ax = plt.subplots()\n",
        "rects1 = ax.bar(ind, Died, width, color='g') #bars for died\n",
        "rects2 = ax.bar(ind + width, Survived, width, color='b') #bars for survived\n",
        "\n",
        "# add some text for labels, title and axes ticks\n",
        "ax.set_ylabel('Percent')\n",
        "ax.set_title('Percent of Passengers who Survived and who did not Survive by Ticket Class')\n",
        "ax.set_xticks(ind + width / 2)\n",
        "ax.set_xticklabels(('1st Class','2nd Class','3rd Class'))\n",
        "\n",
        "ax.legend((rects1[0], rects2[0]), ('Did not Survive', 'Survived'))\n",
        "plt.show()\n"
      ],
      "execution_count": 18,
      "outputs": [
        {
          "output_type": "display_data",
          "data": {
            "image/png": "[encoded data removed]",
            "text/plain": [
              "<Figure size 432x288 with 1 Axes>"
            ]
          },
          "metadata": {
            "tags": [],
            "needs_background": "light"
          }
        }
      ]
    },
    {
      "cell_type": "markdown",
      "metadata": {
        "id": "u5RpoaR_d2R_",
        "colab_type": "text"
      },
      "source": [
        "We can see by our lovely graph and chi-square test that:\n",
        "- We can see that ticket class and survival are not only related, there is a correlation as well."
      ]
    },
    {
      "cell_type": "markdown",
      "metadata": {
        "id": "Lwpb3CmveWud",
        "colab_type": "text"
      },
      "source": [
        "\n",
        "\n",
        "---\n",
        "\n"
      ]
    },
    {
      "cell_type": "markdown",
      "metadata": {
        "id": "tS3aRmPiebpq",
        "colab_type": "text"
      },
      "source": [
        "Now let's look at passenger sex and survival.  Were women and children really the first ones in the lifeboats?\n",
        "\n",
        "Note that here both child and adult males are considered male and child and adult females are considered female in the data so we really can't conclude anything about children from this analysis.\n"
      ]
    },
    {
      "cell_type": "markdown",
      "metadata": {
        "id": "H2bG1Kuee1NY",
        "colab_type": "text"
      },
      "source": [
        "First, is a chi-square test appropriate for these data?"
      ]
    },
    {
      "cell_type": "markdown",
      "metadata": {
        "id": "6KvffzmrBSkf",
        "colab_type": "text"
      },
      "source": [
        "Answer: Yes, the chi square test is appropriate because both gender and survival are categorical variables, and the contingency matrix is dense."
      ]
    },
    {
      "cell_type": "markdown",
      "metadata": {
        "id": "GL8Z9zRke7qz",
        "colab_type": "text"
      },
      "source": [
        "What is the distribution of passenger sex on the Titanic?"
      ]
    },
    {
      "cell_type": "code",
      "metadata": {
        "id": "KrBQVQHHfC6d",
        "colab_type": "code",
        "colab": {
          "base_uri": "https://localhost:8080/",
          "height": 126
        },
        "outputId": "4be37828-a788-418c-8b7b-73c904503a79"
      },
      "source": [
        "#Relative frequency of gender\n",
        "print(df['Sex'].value_counts())\n",
        "\n",
        "#Relative frequency of gender\n",
        "print(df['Sex'].value_counts()/len(df))"
      ],
      "execution_count": 20,
      "outputs": [
        {
          "output_type": "stream",
          "text": [
            "male      573\n",
            "female    314\n",
            "Name: Sex, dtype: int64\n",
            "male      0.645998\n",
            "female    0.354002\n",
            "Name: Sex, dtype: float64\n"
          ],
          "name": "stdout"
        }
      ]
    },
    {
      "cell_type": "markdown",
      "metadata": {
        "id": "RyD2aTmaBdxB",
        "colab_type": "text"
      },
      "source": [
        "Passengers on the Titanic were... 65% Male, 35% Female"
      ]
    },
    {
      "cell_type": "markdown",
      "metadata": {
        "id": "xaufLlDyfDi5",
        "colab_type": "text"
      },
      "source": [
        "Refresh your memory by calculating the distribution of passenger survival."
      ]
    },
    {
      "cell_type": "code",
      "metadata": {
        "id": "6GXC4hGefIlF",
        "colab_type": "code",
        "colab": {
          "base_uri": "https://localhost:8080/",
          "height": 126
        },
        "outputId": "42cc82fa-8536-4f6d-d8ea-8c8ae5aa6c4a"
      },
      "source": [
        "#Frequency of survival\n",
        "print(df['Survived'].value_counts())\n",
        "\n",
        "\n",
        "#Relative frequency of survival\n",
        "print(df['Survived'].value_counts()/len(df))\n"
      ],
      "execution_count": 22,
      "outputs": [
        {
          "output_type": "stream",
          "text": [
            "0    545\n",
            "1    342\n",
            "Name: Survived, dtype: int64\n",
            "0    0.614431\n",
            "1    0.385569\n",
            "Name: Survived, dtype: float64\n"
          ],
          "name": "stdout"
        }
      ]
    },
    {
      "cell_type": "markdown",
      "metadata": {
        "id": "9YWuLRR6CTJX",
        "colab_type": "text"
      },
      "source": [
        "Survival results: 38.6% Survived, 61.4% Died"
      ]
    },
    {
      "cell_type": "markdown",
      "metadata": {
        "id": "wzfhaJP6fI73",
        "colab_type": "text"
      },
      "source": [
        "Calculate the joint distribution of passenger sex and survival.  Add on the margins.  Can you draw any initial conclusions about the relationship between passenger sex and survival?"
      ]
    },
    {
      "cell_type": "code",
      "metadata": {
        "id": "EnfVAURhfbTP",
        "colab_type": "code",
        "colab": {
          "base_uri": "https://localhost:8080/",
          "height": 168
        },
        "outputId": "b74eac5a-cf57-46c5-c570-c43e70654ee6"
      },
      "source": [
        "#Joint distribution and joint distribution adding margins.\n",
        "pd.crosstab(df['Sex'],df['Survived'], margins=True)"
      ],
      "execution_count": 23,
      "outputs": [
        {
          "output_type": "execute_result",
          "data": {
            "text/html": [
              "<div>\n",
              "<style scoped>\n",
              "    .dataframe tbody tr th:only-of-type {\n",
              "        vertical-align: middle;\n",
              "    }\n",
              "\n",
              "    .dataframe tbody tr th {\n",
              "        vertical-align: top;\n",
              "    }\n",
              "\n",
              "    .dataframe thead th {\n",
              "        text-align: right;\n",
              "    }\n",
              "</style>\n",
              "<table border=\"1\" class=\"dataframe\">\n",
              "  <thead>\n",
              "    <tr style=\"text-align: right;\">\n",
              "      <th>Survived</th>\n",
              "      <th>0</th>\n",
              "      <th>1</th>\n",
              "      <th>All</th>\n",
              "    </tr>\n",
              "    <tr>\n",
              "      <th>Sex</th>\n",
              "      <th></th>\n",
              "      <th></th>\n",
              "      <th></th>\n",
              "    </tr>\n",
              "  </thead>\n",
              "  <tbody>\n",
              "    <tr>\n",
              "      <th>female</th>\n",
              "      <td>81</td>\n",
              "      <td>233</td>\n",
              "      <td>314</td>\n",
              "    </tr>\n",
              "    <tr>\n",
              "      <th>male</th>\n",
              "      <td>464</td>\n",
              "      <td>109</td>\n",
              "      <td>573</td>\n",
              "    </tr>\n",
              "    <tr>\n",
              "      <th>All</th>\n",
              "      <td>545</td>\n",
              "      <td>342</td>\n",
              "      <td>887</td>\n",
              "    </tr>\n",
              "  </tbody>\n",
              "</table>\n",
              "</div>"
            ],
            "text/plain": [
              "Survived    0    1  All\n",
              "Sex                    \n",
              "female     81  233  314\n",
              "male      464  109  573\n",
              "All       545  342  887"
            ]
          },
          "metadata": {
            "tags": []
          },
          "execution_count": 23
        }
      ]
    },
    {
      "cell_type": "markdown",
      "metadata": {
        "id": "2roTfH3jCkWW",
        "colab_type": "text"
      },
      "source": [
        "Results: "
      ]
    },
    {
      "cell_type": "markdown",
      "metadata": {
        "id": "9etbacRBfbwI",
        "colab_type": "text"
      },
      "source": [
        "Calculate the distribution of survival conditional on passenger sex.  What does this tell you?"
      ]
    },
    {
      "cell_type": "code",
      "metadata": {
        "id": "F_Jol17Jfkth",
        "colab_type": "code",
        "colab": {
          "base_uri": "https://localhost:8080/",
          "height": 138
        },
        "outputId": "aeed92e9-bb2f-4920-db78-e6d28d80a1bd"
      },
      "source": [
        "#Conditional distribution of survival by passenger sex\n",
        "pd.crosstab(df['Sex'],df['Survived'], normalize='index')"
      ],
      "execution_count": 25,
      "outputs": [
        {
          "output_type": "execute_result",
          "data": {
            "text/html": [
              "<div>\n",
              "<style scoped>\n",
              "    .dataframe tbody tr th:only-of-type {\n",
              "        vertical-align: middle;\n",
              "    }\n",
              "\n",
              "    .dataframe tbody tr th {\n",
              "        vertical-align: top;\n",
              "    }\n",
              "\n",
              "    .dataframe thead th {\n",
              "        text-align: right;\n",
              "    }\n",
              "</style>\n",
              "<table border=\"1\" class=\"dataframe\">\n",
              "  <thead>\n",
              "    <tr style=\"text-align: right;\">\n",
              "      <th>Survived</th>\n",
              "      <th>0</th>\n",
              "      <th>1</th>\n",
              "    </tr>\n",
              "    <tr>\n",
              "      <th>Sex</th>\n",
              "      <th></th>\n",
              "      <th></th>\n",
              "    </tr>\n",
              "  </thead>\n",
              "  <tbody>\n",
              "    <tr>\n",
              "      <th>female</th>\n",
              "      <td>0.257962</td>\n",
              "      <td>0.742038</td>\n",
              "    </tr>\n",
              "    <tr>\n",
              "      <th>male</th>\n",
              "      <td>0.809773</td>\n",
              "      <td>0.190227</td>\n",
              "    </tr>\n",
              "  </tbody>\n",
              "</table>\n",
              "</div>"
            ],
            "text/plain": [
              "Survived         0         1\n",
              "Sex                         \n",
              "female    0.257962  0.742038\n",
              "male      0.809773  0.190227"
            ]
          },
          "metadata": {
            "tags": []
          },
          "execution_count": 25
        }
      ]
    },
    {
      "cell_type": "markdown",
      "metadata": {
        "id": "V1Tl2SjMC7a4",
        "colab_type": "text"
      },
      "source": [
        "Results: "
      ]
    },
    {
      "cell_type": "markdown",
      "metadata": {
        "id": "kSt1t2Nsfk8-",
        "colab_type": "text"
      },
      "source": [
        "Now we need to conduct the chi-square test.  What are our hypotheses?\n",
        "\n",
        "**Ho:** There is no association between passenger sex and survival.\n",
        "\n",
        "**Ha:** There IS an association between passenger sex and survival."
      ]
    },
    {
      "cell_type": "code",
      "metadata": {
        "id": "6gyJiazOfyzy",
        "colab_type": "code",
        "colab": {
          "base_uri": "https://localhost:8080/",
          "height": 108
        },
        "outputId": "b7a7a606-ea1d-4595-e07a-247c6c64eae3"
      },
      "source": [
        "#chi-square test\n",
        "chi2_contingency(pd.crosstab(df['Sex'],df['Survived']))"
      ],
      "execution_count": 26,
      "outputs": [
        {
          "output_type": "execute_result",
          "data": {
            "text/plain": [
              "(258.3912607678978,\n",
              " 3.847574039733745e-58,\n",
              " 1,\n",
              " array([[192.93122886, 121.06877114],\n",
              "        [352.06877114, 220.93122886]]))"
            ]
          },
          "metadata": {
            "tags": []
          },
          "execution_count": 26
        }
      ]
    },
    {
      "cell_type": "markdown",
      "metadata": {
        "id": "ysZ9YgYWfz4x",
        "colab_type": "text"
      },
      "source": [
        "What is the p-value?  What do we conclude (at the 0.05 significance level) about the relationship between passenger sex and survival?"
      ]
    },
    {
      "cell_type": "markdown",
      "metadata": {
        "id": "tpYhnUxgDapA",
        "colab_type": "text"
      },
      "source": [
        "Results: The p-value is 3.8x10^-58, which is far below the threshold of 0.05, and thus the null hypothesis is shattered."
      ]
    },
    {
      "cell_type": "markdown",
      "metadata": {
        "id": "VKLtwyJTf722",
        "colab_type": "text"
      },
      "source": [
        "Create a side-by-side bar plot illustrating the relationship of passenger sex and survival.  "
      ]
    },
    {
      "cell_type": "code",
      "metadata": {
        "id": "g4kHOpWRgY-N",
        "colab_type": "code",
        "colab": {
          "base_uri": "https://localhost:8080/",
          "height": 281
        },
        "outputId": "a32fbee5-230c-4736-8a6e-b9a9d741f64e"
      },
      "source": [
        "#Need this for graphing purposes - it's the number of sexes (male and female)\n",
        "\n",
        "N = 2 ## Fill in here ##\n",
        "\n",
        "\n",
        "Died = (26, 81) ## Fill in here ## # Percent that died in each ticket class\n",
        "Survived = (74, 19) ## Fill in here ## #Percent that survived in each ticket class\n",
        "\n",
        "#This is more graphical stuff\n",
        "ind = np.arange(N)  # the x locations for the groups\n",
        "width = 0.35       # the width of the bars\n",
        "\n",
        "#Create the plot\n",
        "fig, ax = plt.subplots()\n",
        "rects1 = ax.bar(ind, Died, width, color='g') #bars for died\n",
        "rects2 = ax.bar(ind + width, Survived, width, color='b') #bars for survived\n",
        "\n",
        "# add some text for labels, title and axes ticks\n",
        "ax.set_ylabel('##Fill in here##')\n",
        "ax.set_title('##Fill in here##')\n",
        "ax.set_xticks(ind + width / 2)\n",
        "ax.set_xticklabels(('Female','Male'))\n",
        "\n",
        "ax.legend((rects1[0], rects2[0]), ('Did not Survive','Survived'))\n",
        "\n",
        "plt.show()"
      ],
      "execution_count": 30,
      "outputs": [
        {
          "output_type": "display_data",
          "data": {
            "image/png": "[encoded data removed]",
            "text/plain": [
              "<Figure size 432x288 with 1 Axes>"
            ]
          },
          "metadata": {
            "tags": [],
            "needs_background": "light"
          }
        }
      ]
    },
    {
      "cell_type": "markdown",
      "metadata": {
        "id": "W901a8WOgbka",
        "colab_type": "text"
      },
      "source": [
        "Explain your results to someone who is interested in Titanic history but knows little about statistics."
      ]
    },
    {
      "cell_type": "markdown",
      "metadata": {
        "id": "eN_c41j9ayEC",
        "colab_type": "text"
      },
      "source": [
        "Just for fun, is there a relationship between Sex and Class?"
      ]
    },
    {
      "cell_type": "code",
      "metadata": {
        "id": "accNPmAla2Vq",
        "colab_type": "code",
        "colab": {
          "base_uri": "https://localhost:8080/",
          "height": 108
        },
        "outputId": "d5ea9781-5ec4-49f8-a99b-3761b868fe76"
      },
      "source": [
        "chi2_contingency(pd.crosstab(df['Sex'],df['Pclass']))"
      ],
      "execution_count": 31,
      "outputs": [
        {
          "output_type": "execute_result",
          "data": {
            "text/plain": [
              "(16.271573346171404,\n",
              " 0.0002928685533212755,\n",
              " 2,\n",
              " array([[ 76.46448703,  65.13641488, 172.39909808],\n",
              "        [139.53551297, 118.86358512, 314.60090192]]))"
            ]
          },
          "metadata": {
            "tags": []
          },
          "execution_count": 31
        }
      ]
    },
    {
      "cell_type": "markdown",
      "metadata": {
        "id": "qD93V7KXbBw6",
        "colab_type": "text"
      },
      "source": [
        "The p-value for Class vs Sex is 0.00029, which is less than 0.05. There is a statistically significant relationship between Class and Sex, although it's not as strong as Class vs Survival or Sex vs Survival."
      ]
    },
    {
      "cell_type": "code",
      "metadata": {
        "id": "eR6icXGbbjwW",
        "colab_type": "code",
        "colab": {
          "base_uri": "https://localhost:8080/",
          "height": 726
        },
        "outputId": "c086f366-79ec-4304-ae0a-a9037d86f245"
      },
      "source": [
        "chi2_contingency(pd.crosstab(df['Survived'],df['Age']))"
      ],
      "execution_count": 33,
      "outputs": [
        {
          "output_type": "execute_result",
          "data": {
            "text/plain": [
              "(109.86296062384329,\n",
              " 0.05731493953999638,\n",
              " 88,\n",
              " array([[ 0.61443067,  0.61443067,  1.22886133,  1.22886133,  0.61443067,\n",
              "          4.30101466,  6.75873732,  4.30101466,  6.75873732,  3.68658399,\n",
              "          1.843292  ,  3.07215333,  3.68658399,  4.91544532,  1.22886133,\n",
              "          2.45772266,  1.22886133,  1.22886133,  4.30101466,  0.61443067,\n",
              "          3.07215333, 12.2886133 ,  9.83089064, 22.11950395, 20.27621195,\n",
              "         14.1319053 ,  0.61443067, 20.89064262, 23.96279594, 15.36076663,\n",
              "          0.61443067, 20.89064262,  0.61443067, 14.74633596, 12.90304397,\n",
              "         15.97519729, 22.73393461,  1.22886133, 15.36076663, 20.27621195,\n",
              "          1.22886133, 11.67418264, 12.90304397,  1.22886133, 10.44532131,\n",
              "         10.44532131,  0.61443067, 12.90304397, 14.1319053 ,  0.61443067,\n",
              "          7.37316798,  7.37316798, 11.05975197, 11.05975197,  1.22886133,\n",
              "          5.52987599, 10.44532131,  4.30101466,  5.52987599,  8.60202931,\n",
              "          1.22886133,  3.68658399,  6.14430665,  7.37316798,  4.91544532,\n",
              "          6.14430665,  4.30101466,  3.68658399,  0.61443067,  5.52987599,\n",
              "          1.843292  ,  0.61443067,  2.45772266,  1.843292  ,  3.07215333,\n",
              "          1.22886133,  3.07215333,  1.843292  ,  3.07215333,  1.22886133,\n",
              "          1.843292  ,  1.843292  ,  1.22886133,  0.61443067,  1.22886133,\n",
              "          0.61443067,  1.22886133,  0.61443067,  0.61443067],\n",
              "        [ 0.38556933,  0.38556933,  0.77113867,  0.77113867,  0.38556933,\n",
              "          2.69898534,  4.24126268,  2.69898534,  4.24126268,  2.31341601,\n",
              "          1.156708  ,  1.92784667,  2.31341601,  3.08455468,  0.77113867,\n",
              "          1.54227734,  0.77113867,  0.77113867,  2.69898534,  0.38556933,\n",
              "          1.92784667,  7.7113867 ,  6.16910936, 13.88049605, 12.72378805,\n",
              "          8.8680947 ,  0.38556933, 13.10935738, 15.03720406,  9.63923337,\n",
              "          0.38556933, 13.10935738,  0.38556933,  9.25366404,  8.09695603,\n",
              "         10.02480271, 14.26606539,  0.77113867,  9.63923337, 12.72378805,\n",
              "          0.77113867,  7.32581736,  8.09695603,  0.77113867,  6.55467869,\n",
              "          6.55467869,  0.38556933,  8.09695603,  8.8680947 ,  0.38556933,\n",
              "          4.62683202,  4.62683202,  6.94024803,  6.94024803,  0.77113867,\n",
              "          3.47012401,  6.55467869,  2.69898534,  3.47012401,  5.39797069,\n",
              "          0.77113867,  2.31341601,  3.85569335,  4.62683202,  3.08455468,\n",
              "          3.85569335,  2.69898534,  2.31341601,  0.38556933,  3.47012401,\n",
              "          1.156708  ,  0.38556933,  1.54227734,  1.156708  ,  1.92784667,\n",
              "          0.77113867,  1.92784667,  1.156708  ,  1.92784667,  0.77113867,\n",
              "          1.156708  ,  1.156708  ,  0.77113867,  0.38556933,  0.77113867,\n",
              "          0.38556933,  0.77113867,  0.38556933,  0.38556933]]))"
            ]
          },
          "metadata": {
            "tags": []
          },
          "execution_count": 33
        }
      ]
    },
    {
      "cell_type": "markdown",
      "metadata": {
        "id": "nX5hdbe8b1VM",
        "colab_type": "text"
      },
      "source": [
        "And lastly, the p-value for Age vs Survived is 0.057, which is not statistically significant."
      ]
    },
    {
      "cell_type": "code",
      "metadata": {
        "id": "eQBo6IcLcH10",
        "colab_type": "code",
        "colab": {
          "base_uri": "https://localhost:8080/",
          "height": 283
        },
        "outputId": "0672e6f0-ca5c-429a-d6c7-ea034f1adf41"
      },
      "source": [
        "unvived = df[df['Survived'] == 0]\n",
        "survived = df[df['Survived'] == 1]\n",
        "\n",
        "unvived['Age'].plot.kde()\n",
        "survived['Age'].plot.kde()"
      ],
      "execution_count": 44,
      "outputs": [
        {
          "output_type": "execute_result",
          "data": {
            "text/plain": [
              "<matplotlib.axes._subplots.AxesSubplot at 0x7fc6e44187f0>"
            ]
          },
          "metadata": {
            "tags": []
          },
          "execution_count": 44
        },
        {
          "output_type": "display_data",
          "data": {
            "image/png": "[encoded data removed]",
            "text/plain": [
              "<Figure size 432x288 with 1 Axes>"
            ]
          },
          "metadata": {
            "tags": [],
            "needs_background": "light"
          }
        }
      ]
    }
  ]
}